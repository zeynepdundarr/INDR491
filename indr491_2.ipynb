{
 "cells": [
  {
   "cell_type": "code",
   "execution_count": 188,
   "metadata": {},
   "outputs": [],
   "source": [
    "import pandas as pd\n",
    "from datetime import datetime\n",
    "\n",
    "excel_path = '/Users/zeynepdundar/Downloads/INDR491_UPDATED.xlsx'\n",
    "df = pd.read_excel (excel_path)\n",
    "\n",
    "\n",
    "df_new = df.copy()\n",
    "timestamp = 1553367060\n"
   ]
  },
  {
   "cell_type": "code",
   "execution_count": 189,
   "metadata": {},
   "outputs": [],
   "source": [
    "df_new = df.copy()\n",
    "\n",
    "# make a plain dataframe containing only date and value columns\n",
    "df_new_sade = pd.concat([df_new[\"datetime\"], df_new[\"Value Updated\"]], axis=1)\n",
    "\n"
   ]
  },
  {
   "cell_type": "code",
   "execution_count": 190,
   "metadata": {},
   "outputs": [
    {
     "data": {
      "text/plain": [
       "datetime\n",
       "2021-11-16 21:00:02    0.0\n",
       "2021-11-17 00:00:02    0.0\n",
       "2021-11-17 03:00:02    0.0\n",
       "2021-11-17 06:00:02    0.0\n",
       "2021-11-17 09:00:02    0.0\n",
       "                      ... \n",
       "2022-11-15 12:00:02    0.0\n",
       "2022-11-15 15:00:02    0.0\n",
       "2022-11-15 18:00:02    0.0\n",
       "2022-11-15 21:00:02    0.0\n",
       "2022-11-16 00:00:02    0.0\n",
       "Freq: 180T, Length: 2914, dtype: float64"
      ]
     },
     "execution_count": 190,
     "metadata": {},
     "output_type": "execute_result"
    }
   ],
   "source": [
    "#create groups of dataframe by time intervals and select the rows which are bigger than the threshold\n",
    "\n",
    "numerator = df_new_sade.groupby(pd.Grouper(key='datetime', offset=\"2s\", freq=\"180min\", label='right')).apply(lambda x: x[x[\"Value Updated\"]>5][\"Value Updated\"].sum())\n",
    "denominator = df_new_sade.groupby(pd.Grouper(key='datetime', offset=\"2s\", freq=\"180min\", label='right')).apply(lambda x: x[\"Value Updated\"].sum())\n",
    "\n",
    "#calculate proportions for every period\n",
    "proportions = numerator/denominator\n",
    "proportions "
   ]
  },
  {
   "cell_type": "code",
   "execution_count": 191,
   "metadata": {},
   "outputs": [],
   "source": [
    "# check the nonzero values \n",
    "# numerator\n",
    "# denominator\n",
    "# proportions\n",
    "# (numerator[numerator != 0])\n",
    "# (proportions[proportions != 0])"
   ]
  },
  {
   "cell_type": "code",
   "execution_count": 192,
   "metadata": {},
   "outputs": [
    {
     "data": {
      "text/html": [
       "<div>\n",
       "<style scoped>\n",
       "    .dataframe tbody tr th:only-of-type {\n",
       "        vertical-align: middle;\n",
       "    }\n",
       "\n",
       "    .dataframe tbody tr th {\n",
       "        vertical-align: top;\n",
       "    }\n",
       "\n",
       "    .dataframe thead th {\n",
       "        text-align: right;\n",
       "    }\n",
       "</style>\n",
       "<table border=\"1\" class=\"dataframe\">\n",
       "  <thead>\n",
       "    <tr style=\"text-align: right;\">\n",
       "      <th></th>\n",
       "      <th>Proportions</th>\n",
       "      <th>State</th>\n",
       "    </tr>\n",
       "    <tr>\n",
       "      <th>datetime</th>\n",
       "      <th></th>\n",
       "      <th></th>\n",
       "    </tr>\n",
       "  </thead>\n",
       "  <tbody>\n",
       "    <tr>\n",
       "      <th>2021-11-16 21:00:02</th>\n",
       "      <td>0.0</td>\n",
       "      <td>0</td>\n",
       "    </tr>\n",
       "    <tr>\n",
       "      <th>2021-11-17 00:00:02</th>\n",
       "      <td>0.0</td>\n",
       "      <td>0</td>\n",
       "    </tr>\n",
       "    <tr>\n",
       "      <th>2021-11-17 03:00:02</th>\n",
       "      <td>0.0</td>\n",
       "      <td>0</td>\n",
       "    </tr>\n",
       "    <tr>\n",
       "      <th>2021-11-17 06:00:02</th>\n",
       "      <td>0.0</td>\n",
       "      <td>0</td>\n",
       "    </tr>\n",
       "    <tr>\n",
       "      <th>2021-11-17 09:00:02</th>\n",
       "      <td>0.0</td>\n",
       "      <td>0</td>\n",
       "    </tr>\n",
       "    <tr>\n",
       "      <th>...</th>\n",
       "      <td>...</td>\n",
       "      <td>...</td>\n",
       "    </tr>\n",
       "    <tr>\n",
       "      <th>2022-11-15 12:00:02</th>\n",
       "      <td>0.0</td>\n",
       "      <td>0</td>\n",
       "    </tr>\n",
       "    <tr>\n",
       "      <th>2022-11-15 15:00:02</th>\n",
       "      <td>0.0</td>\n",
       "      <td>0</td>\n",
       "    </tr>\n",
       "    <tr>\n",
       "      <th>2022-11-15 18:00:02</th>\n",
       "      <td>0.0</td>\n",
       "      <td>0</td>\n",
       "    </tr>\n",
       "    <tr>\n",
       "      <th>2022-11-15 21:00:02</th>\n",
       "      <td>0.0</td>\n",
       "      <td>0</td>\n",
       "    </tr>\n",
       "    <tr>\n",
       "      <th>2022-11-16 00:00:02</th>\n",
       "      <td>0.0</td>\n",
       "      <td>0</td>\n",
       "    </tr>\n",
       "  </tbody>\n",
       "</table>\n",
       "<p>2914 rows × 2 columns</p>\n",
       "</div>"
      ],
      "text/plain": [
       "                     Proportions  State\n",
       "datetime                               \n",
       "2021-11-16 21:00:02          0.0      0\n",
       "2021-11-17 00:00:02          0.0      0\n",
       "2021-11-17 03:00:02          0.0      0\n",
       "2021-11-17 06:00:02          0.0      0\n",
       "2021-11-17 09:00:02          0.0      0\n",
       "...                          ...    ...\n",
       "2022-11-15 12:00:02          0.0      0\n",
       "2022-11-15 15:00:02          0.0      0\n",
       "2022-11-15 18:00:02          0.0      0\n",
       "2022-11-15 21:00:02          0.0      0\n",
       "2022-11-16 00:00:02          0.0      0\n",
       "\n",
       "[2914 rows x 2 columns]"
      ]
     },
     "execution_count": 192,
     "metadata": {},
     "output_type": "execute_result"
    }
   ],
   "source": [
    "states = [0]*len(proportions)\n",
    "states\n",
    "\n",
    "proportion_df = pd.DataFrame(proportions, columns = [\"Proportions\"])\n",
    "proportion_df[\"State\"] = states\n",
    "proportion_df"
   ]
  },
  {
   "cell_type": "code",
   "execution_count": 194,
   "metadata": {},
   "outputs": [
    {
     "data": {
      "text/html": [
       "<div>\n",
       "<style scoped>\n",
       "    .dataframe tbody tr th:only-of-type {\n",
       "        vertical-align: middle;\n",
       "    }\n",
       "\n",
       "    .dataframe tbody tr th {\n",
       "        vertical-align: top;\n",
       "    }\n",
       "\n",
       "    .dataframe thead th {\n",
       "        text-align: right;\n",
       "    }\n",
       "</style>\n",
       "<table border=\"1\" class=\"dataframe\">\n",
       "  <thead>\n",
       "    <tr style=\"text-align: right;\">\n",
       "      <th></th>\n",
       "      <th>Proportions</th>\n",
       "      <th>State</th>\n",
       "    </tr>\n",
       "    <tr>\n",
       "      <th>datetime</th>\n",
       "      <th></th>\n",
       "      <th></th>\n",
       "    </tr>\n",
       "  </thead>\n",
       "  <tbody>\n",
       "    <tr>\n",
       "      <th>2022-01-14 21:00:02</th>\n",
       "      <td>0.682547</td>\n",
       "      <td>State 3</td>\n",
       "    </tr>\n",
       "    <tr>\n",
       "      <th>2022-03-24 00:00:02</th>\n",
       "      <td>0.614477</td>\n",
       "      <td>State 3</td>\n",
       "    </tr>\n",
       "    <tr>\n",
       "      <th>2022-04-14 06:00:02</th>\n",
       "      <td>0.762449</td>\n",
       "      <td>State 3</td>\n",
       "    </tr>\n",
       "    <tr>\n",
       "      <th>2022-08-19 21:00:02</th>\n",
       "      <td>0.531565</td>\n",
       "      <td>State 3</td>\n",
       "    </tr>\n",
       "    <tr>\n",
       "      <th>2022-11-02 21:00:02</th>\n",
       "      <td>0.713589</td>\n",
       "      <td>State 3</td>\n",
       "    </tr>\n",
       "  </tbody>\n",
       "</table>\n",
       "</div>"
      ],
      "text/plain": [
       "                     Proportions    State\n",
       "datetime                                 \n",
       "2022-01-14 21:00:02     0.682547  State 3\n",
       "2022-03-24 00:00:02     0.614477  State 3\n",
       "2022-04-14 06:00:02     0.762449  State 3\n",
       "2022-08-19 21:00:02     0.531565  State 3\n",
       "2022-11-02 21:00:02     0.713589  State 3"
      ]
     },
     "execution_count": 194,
     "metadata": {},
     "output_type": "execute_result"
    }
   ],
   "source": [
    "#proportions[proportions[\"Value Updated\"] == 0.951327][\"states\"]\n",
    "# filter ederken esit olanlari degistirmiyor\n",
    "proportion_df.loc[proportion_df[\"Proportions\"] <= 0.3,\"State\"] = \"State 1\"\n",
    "proportion_df.loc[(proportion_df[\"Proportions\"] <= 0.5) & (proportion_df[\"Proportions\"] > 0.3),\"State\"] = \"State 2\"\n",
    "proportion_df.loc[(proportion_df[\"Proportions\"] <= 0.8) & (proportion_df[\"Proportions\"] > 0.5),\"State\"] = \"State 3\"\n",
    "proportion_df.loc[proportion_df[\"Proportions\"] > 0.8,\"State\"] = \"State 4\"\n",
    "\n",
    "# example\n",
    "proportion_df[proportion_df[\"State\"] == \"State 3\"]\n",
    "\n"
   ]
  },
  {
   "cell_type": "code",
   "execution_count": null,
   "metadata": {},
   "outputs": [
    {
     "data": {
      "text/plain": [
       "array([[9.71173644e-01, 0.00000000e+00, 1.71585450e-03, 2.05902539e-03],\n",
       "       [3.43170899e-04, 0.00000000e+00, 0.00000000e+00, 3.43170899e-04],\n",
       "       [0.00000000e+00, 0.00000000e+00, 0.00000000e+00, 1.71585450e-03],\n",
       "       [3.43170899e-03, 6.86341798e-04, 0.00000000e+00, 1.85312286e-02]])"
      ]
     },
     "execution_count": 161,
     "metadata": {},
     "output_type": "execute_result"
    }
   ],
   "source": [
    "import numpy as np\n",
    "\n",
    "def getIndexByState(state):\n",
    "    \n",
    "    if state == \"State 1\":\n",
    "        index = 0\n",
    "    elif state == \"State 2\":\n",
    "        index = 1\n",
    "    elif state == \"State 3\":\n",
    "        index = 2\n",
    "    elif state == \"State 4\":\n",
    "        index = 3\n",
    "    else:\n",
    "        index = 0 \n",
    "    return index\n",
    "\n",
    "\n",
    "# calculate transitions\n",
    "\n",
    "prev_index = 0\n",
    "cur_row_index = 1\n",
    "number_of_states = 4\n",
    "transitions = np.zeros((number_of_states,number_of_states))\n",
    "total_transitions = 0\n",
    "\n",
    "for index, cur_row in proportion_df.iterrows():\n",
    "  \n",
    "    cur_index = getIndexByState(cur_row[\"State\"])\n",
    "    transitions[prev_index][cur_index] += 1\n",
    "    prev_index = cur_index\n",
    "    total_transitions += 1\n",
    "\n",
    "transition_probs = transitions/total_transitions\n",
    "transition_probs\n",
    "\n",
    "\n"
   ]
  },
  {
   "cell_type": "code",
   "execution_count": null,
   "metadata": {},
   "outputs": [],
   "source": []
  },
  {
   "cell_type": "code",
   "execution_count": null,
   "metadata": {},
   "outputs": [],
   "source": []
  }
 ],
 "metadata": {
  "interpreter": {
   "hash": "8091b108cf6ac7d868cdf340ca3bbc2ed3d825a776164d8c986651032cfda28d"
  },
  "kernelspec": {
   "display_name": "Python 3.10.0 64-bit ('indr491-3': conda)",
   "language": "python",
   "name": "python3"
  },
  "language_info": {
   "codemirror_mode": {
    "name": "ipython",
    "version": 3
   },
   "file_extension": ".py",
   "mimetype": "text/x-python",
   "name": "python",
   "nbconvert_exporter": "python",
   "pygments_lexer": "ipython3",
   "version": "3.8.12"
  },
  "orig_nbformat": 4
 },
 "nbformat": 4,
 "nbformat_minor": 2
}
