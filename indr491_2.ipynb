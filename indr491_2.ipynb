{
 "cells": [
  {
   "cell_type": "code",
   "execution_count": 64,
   "metadata": {},
   "outputs": [],
   "source": [
    "import pandas as pd\n",
    "from datetime import datetime\n",
    "\n",
    "excel_path = '/Users/zeynepdundar/Downloads/INDR491_UPDATED.xlsx'\n",
    "df = pd.read_excel (excel_path)\n"
   ]
  },
  {
   "cell_type": "code",
   "execution_count": 91,
   "metadata": {},
   "outputs": [
    {
     "data": {
      "text/html": [
       "<div>\n",
       "<style scoped>\n",
       "    .dataframe tbody tr th:only-of-type {\n",
       "        vertical-align: middle;\n",
       "    }\n",
       "\n",
       "    .dataframe tbody tr th {\n",
       "        vertical-align: top;\n",
       "    }\n",
       "\n",
       "    .dataframe thead th {\n",
       "        text-align: right;\n",
       "    }\n",
       "</style>\n",
       "<table border=\"1\" class=\"dataframe\">\n",
       "  <thead>\n",
       "    <tr style=\"text-align: right;\">\n",
       "      <th></th>\n",
       "      <th>datetime</th>\n",
       "      <th>Value Updated</th>\n",
       "    </tr>\n",
       "  </thead>\n",
       "  <tbody>\n",
       "    <tr>\n",
       "      <th>0</th>\n",
       "      <td>2021-11-16 20:36:31.838</td>\n",
       "      <td>0.003</td>\n",
       "    </tr>\n",
       "    <tr>\n",
       "      <th>1</th>\n",
       "      <td>2021-11-16 20:37:01.838</td>\n",
       "      <td>0.003</td>\n",
       "    </tr>\n",
       "    <tr>\n",
       "      <th>2</th>\n",
       "      <td>2021-11-16 20:37:31.838</td>\n",
       "      <td>0.003</td>\n",
       "    </tr>\n",
       "    <tr>\n",
       "      <th>3</th>\n",
       "      <td>2021-11-16 20:38:01.838</td>\n",
       "      <td>0.003</td>\n",
       "    </tr>\n",
       "    <tr>\n",
       "      <th>4</th>\n",
       "      <td>2021-11-16 20:38:31.838</td>\n",
       "      <td>0.000</td>\n",
       "    </tr>\n",
       "    <tr>\n",
       "      <th>...</th>\n",
       "      <td>...</td>\n",
       "      <td>...</td>\n",
       "    </tr>\n",
       "    <tr>\n",
       "      <th>1048570</th>\n",
       "      <td>2022-11-15 22:41:31.838</td>\n",
       "      <td>0.261</td>\n",
       "    </tr>\n",
       "    <tr>\n",
       "      <th>1048571</th>\n",
       "      <td>2022-11-15 22:42:01.838</td>\n",
       "      <td>0.264</td>\n",
       "    </tr>\n",
       "    <tr>\n",
       "      <th>1048572</th>\n",
       "      <td>2022-11-15 22:42:31.838</td>\n",
       "      <td>0.267</td>\n",
       "    </tr>\n",
       "    <tr>\n",
       "      <th>1048573</th>\n",
       "      <td>2022-11-15 22:43:01.838</td>\n",
       "      <td>0.264</td>\n",
       "    </tr>\n",
       "    <tr>\n",
       "      <th>1048574</th>\n",
       "      <td>2022-11-15 22:43:31.838</td>\n",
       "      <td>0.267</td>\n",
       "    </tr>\n",
       "  </tbody>\n",
       "</table>\n",
       "<p>1048575 rows × 2 columns</p>\n",
       "</div>"
      ],
      "text/plain": [
       "                       datetime  Value Updated\n",
       "0       2021-11-16 20:36:31.838          0.003\n",
       "1       2021-11-16 20:37:01.838          0.003\n",
       "2       2021-11-16 20:37:31.838          0.003\n",
       "3       2021-11-16 20:38:01.838          0.003\n",
       "4       2021-11-16 20:38:31.838          0.000\n",
       "...                         ...            ...\n",
       "1048570 2022-11-15 22:41:31.838          0.261\n",
       "1048571 2022-11-15 22:42:01.838          0.264\n",
       "1048572 2022-11-15 22:42:31.838          0.267\n",
       "1048573 2022-11-15 22:43:01.838          0.264\n",
       "1048574 2022-11-15 22:43:31.838          0.267\n",
       "\n",
       "[1048575 rows x 2 columns]"
      ]
     },
     "execution_count": 91,
     "metadata": {},
     "output_type": "execute_result"
    }
   ],
   "source": [
    "threshold_values = 5\n",
    "interval_freq = \"180min\"\n",
    "interval_offset = \"2s\"\n",
    "number_of_states = 4\n",
    "\n",
    "threshold_state_1 = 0.3\n",
    "threshold_state_2 = 0.65\n",
    "threshold_state_3 = 0.95\n",
    "\n",
    "\n",
    "df_new = df.copy()\n",
    "timestamp = 1553367060\n",
    "\n",
    "# make a plain dataframe containing only date and value columns\n",
    "df_new_sade = pd.concat([df_new[\"datetime\"], df_new[\"Value Updated\"]], axis=1)\n",
    "df_new_sade\n"
   ]
  },
  {
   "cell_type": "code",
   "execution_count": 66,
   "metadata": {},
   "outputs": [
    {
     "data": {
      "text/plain": [
       "datetime\n",
       "2021-11-16 21:00:02    0.0\n",
       "2021-11-17 00:00:02    0.0\n",
       "2021-11-17 03:00:02    0.0\n",
       "2021-11-17 06:00:02    0.0\n",
       "2021-11-17 09:00:02    0.0\n",
       "                      ... \n",
       "2022-11-15 12:00:02    0.0\n",
       "2022-11-15 15:00:02    0.0\n",
       "2022-11-15 18:00:02    0.0\n",
       "2022-11-15 21:00:02    0.0\n",
       "2022-11-16 00:00:02    0.0\n",
       "Freq: 180T, Length: 2914, dtype: float64"
      ]
     },
     "execution_count": 66,
     "metadata": {},
     "output_type": "execute_result"
    }
   ],
   "source": [
    "#create groups of dataframe by time intervals and select the rows which are bigger than the _for_values value\n",
    "numerator = df_new_sade.groupby(pd.Grouper(key='datetime', offset=interval_offset, freq=interval_freq, label='right')).apply(lambda x: x[x[\"Value Updated\"]>threshold_values][\"Value Updated\"].sum())\n",
    "denominator = df_new_sade.groupby(pd.Grouper(key='datetime', offset=interval_offset, freq=interval_freq, label='right')).apply(lambda x: x[\"Value Updated\"].sum())\n",
    "\n",
    "#calculate proportions for every period\n",
    "proportions = numerator/denominator\n",
    "proportions "
   ]
  },
  {
   "cell_type": "code",
   "execution_count": 92,
   "metadata": {},
   "outputs": [
    {
     "data": {
      "text/plain": [
       "datetime\n",
       "2021-12-11 21:00:02     1462.212\n",
       "2021-12-12 00:00:02    11054.448\n",
       "2021-12-12 03:00:02    11245.824\n",
       "2021-12-12 06:00:02    11648.664\n",
       "2021-12-12 09:00:02    12087.144\n",
       "                         ...    \n",
       "2022-11-03 00:00:02     3275.496\n",
       "2022-11-03 03:00:02      886.185\n",
       "2022-11-03 09:00:02    12640.290\n",
       "2022-11-03 12:00:02     6182.610\n",
       "2022-11-03 21:00:02     1839.060\n",
       "Length: 75, dtype: float64"
      ]
     },
     "execution_count": 92,
     "metadata": {},
     "output_type": "execute_result"
    }
   ],
   "source": [
    "# check the nonzero values \n",
    "# numerator\n",
    "# denominator\n",
    "# proportions\n",
    "(numerator[numerator != 0])\n",
    "#(proportions[proportions != 0])"
   ]
  },
  {
   "cell_type": "code",
   "execution_count": 89,
   "metadata": {},
   "outputs": [],
   "source": [
    "states = [0]*len(proportions)\n",
    "states\n",
    "\n",
    "proportion_df = pd.DataFrame(proportions, columns = [\"Proportions\"])\n",
    "proportion_df[\"State\"] = states\n"
   ]
  },
  {
   "cell_type": "code",
   "execution_count": 90,
   "metadata": {},
   "outputs": [
    {
     "data": {
      "text/html": [
       "<div>\n",
       "<style scoped>\n",
       "    .dataframe tbody tr th:only-of-type {\n",
       "        vertical-align: middle;\n",
       "    }\n",
       "\n",
       "    .dataframe tbody tr th {\n",
       "        vertical-align: top;\n",
       "    }\n",
       "\n",
       "    .dataframe thead th {\n",
       "        text-align: right;\n",
       "    }\n",
       "</style>\n",
       "<table border=\"1\" class=\"dataframe\">\n",
       "  <thead>\n",
       "    <tr style=\"text-align: right;\">\n",
       "      <th></th>\n",
       "      <th>Proportions</th>\n",
       "      <th>State</th>\n",
       "    </tr>\n",
       "    <tr>\n",
       "      <th>datetime</th>\n",
       "      <th></th>\n",
       "      <th></th>\n",
       "    </tr>\n",
       "  </thead>\n",
       "  <tbody>\n",
       "    <tr>\n",
       "      <th>2022-03-24 00:00:02</th>\n",
       "      <td>0.614477</td>\n",
       "      <td>State 2</td>\n",
       "    </tr>\n",
       "    <tr>\n",
       "      <th>2022-08-19 21:00:02</th>\n",
       "      <td>0.531565</td>\n",
       "      <td>State 2</td>\n",
       "    </tr>\n",
       "    <tr>\n",
       "      <th>2022-08-20 03:00:02</th>\n",
       "      <td>0.492121</td>\n",
       "      <td>State 2</td>\n",
       "    </tr>\n",
       "    <tr>\n",
       "      <th>2022-11-03 03:00:02</th>\n",
       "      <td>0.458041</td>\n",
       "      <td>State 2</td>\n",
       "    </tr>\n",
       "  </tbody>\n",
       "</table>\n",
       "</div>"
      ],
      "text/plain": [
       "                     Proportions    State\n",
       "datetime                                 \n",
       "2022-03-24 00:00:02     0.614477  State 2\n",
       "2022-08-19 21:00:02     0.531565  State 2\n",
       "2022-08-20 03:00:02     0.492121  State 2\n",
       "2022-11-03 03:00:02     0.458041  State 2"
      ]
     },
     "execution_count": 90,
     "metadata": {},
     "output_type": "execute_result"
    }
   ],
   "source": [
    "# Assigning states by threshold\n",
    "proportion_df.loc[proportion_df[\"Proportions\"] == 0,\"State\"] = \"State 1\"\n",
    "proportion_df.loc[proportion_df[\"Proportions\"] <= threshold_state_1,\"State\"] = \"State 1\"\n",
    "proportion_df.loc[(proportion_df[\"Proportions\"] <= threshold_state_2) & (proportion_df[\"Proportions\"] > threshold_state_1),\"State\"] = \"State 2\"\n",
    "proportion_df.loc[(proportion_df[\"Proportions\"] < 1) & (proportion_df[\"Proportions\"] > threshold_state_3),\"State\"] = \"State 3\"\n",
    "proportion_df.loc[proportion_df[\"Proportions\"] == 1,\"State\"] = \"State 4\"\n",
    "\n",
    "# example\n",
    "proportion_df[proportion_df[\"State\"] == \"State 2\"]\n",
    "\n",
    "\n"
   ]
  },
  {
   "cell_type": "code",
   "execution_count": 87,
   "metadata": {},
   "outputs": [
    {
     "name": "stdout",
     "output_type": "stream",
     "text": [
      "Transition probabilities: \n",
      "[[9.96128124e-01 2.81590989e-03 7.03977473e-04 3.51988736e-04]\n",
      " [1.87500000e-01 1.25000000e-01 1.25000000e-01 5.62500000e-01]\n",
      " [7.27272727e-01 1.81818182e-01 9.09090909e-02 0.00000000e+00]\n",
      " [0.00000000e+00 8.69565217e-02 1.30434783e-01 7.82608696e-01]]\n",
      "\n",
      "1.0\n",
      "1.0\n",
      "1.0\n",
      "1.0\n"
     ]
    }
   ],
   "source": [
    "import numpy as np\n",
    "\n",
    "def createStateDict():\n",
    "    stringToIndex = {}\n",
    "    for i in range(number_of_states):\n",
    "        key = \"State \" + str(i+1)\n",
    "        if not key in stringToIndex.keys():\n",
    "            stringToIndex[key] = i        \n",
    "    return stringToIndex\n",
    "\n",
    "def getIndexByState(stateDict, state): \n",
    "    # for proportion == 0, state should got to 1. DataFrame cannot handle the \"==\" assignment, therefore it is manually assigned here.\n",
    "    if state == 0:\n",
    "        return 1\n",
    "    else:\n",
    "        return stateDict[state]\n",
    "\n",
    "\n",
    "# calculate transitions\n",
    "prev_index = 0\n",
    "cur_row_index = 1\n",
    "\n",
    "transition_probs = np.zeros((number_of_states,number_of_states))\n",
    "transitions = np.zeros((number_of_states,number_of_states))\n",
    "total_transitions_for_each_state = np.zeros(4)\n",
    "state_dict = createStateDict()\n",
    "\n",
    "for index, cur_row in proportion_df.iterrows():\n",
    "  \n",
    "    cur_index = getIndexByState(state_dict, cur_row[\"State\"])\n",
    "    transitions[prev_index][cur_index] += 1\n",
    "    prev_index = cur_index\n",
    "    total_transitions_for_each_state[prev_index] += 1\n",
    "\n",
    "for i in range(number_of_states):\n",
    "    transition_probs[i] = transitions[i]/total_transitions_for_each_state[i]\n",
    "\n",
    "\n",
    "print(\"Transition probabilities: \")\n",
    "print(transition_probs)\n",
    "print()\n",
    "# All state transitions are summed up to be 1\n",
    "print(transition_probs[0,:].sum())\n",
    "print(transition_probs[1,:].sum())\n",
    "print(transition_probs[2,:].sum())\n",
    "print(transition_probs[3,:].sum())\n",
    "\n",
    "\n",
    "\n",
    "\n"
   ]
  },
  {
   "cell_type": "code",
   "execution_count": null,
   "metadata": {},
   "outputs": [
    {
     "data": {
      "text/plain": [
       "array([[9.96128124e-01, 2.81590989e-03, 7.03977473e-04, 3.51988736e-04],\n",
       "       [1.87500000e-01, 1.25000000e-01, 1.25000000e-01, 5.62500000e-01],\n",
       "       [7.27272727e-01, 1.81818182e-01, 9.09090909e-02, 0.00000000e+00],\n",
       "       [0.00000000e+00, 8.69565217e-02, 1.30434783e-01, 7.82608696e-01]])"
      ]
     },
     "execution_count": 36,
     "metadata": {},
     "output_type": "execute_result"
    }
   ],
   "source": [
    "\n"
   ]
  },
  {
   "cell_type": "code",
   "execution_count": null,
   "metadata": {},
   "outputs": [],
   "source": [
    "\n"
   ]
  }
 ],
 "metadata": {
  "interpreter": {
   "hash": "8091b108cf6ac7d868cdf340ca3bbc2ed3d825a776164d8c986651032cfda28d"
  },
  "kernelspec": {
   "display_name": "Python 3.10.0 64-bit ('indr491-3': conda)",
   "language": "python",
   "name": "python3"
  },
  "language_info": {
   "codemirror_mode": {
    "name": "ipython",
    "version": 3
   },
   "file_extension": ".py",
   "mimetype": "text/x-python",
   "name": "python",
   "nbconvert_exporter": "python",
   "pygments_lexer": "ipython3",
   "version": "3.8.12"
  },
  "orig_nbformat": 4
 },
 "nbformat": 4,
 "nbformat_minor": 2
}
